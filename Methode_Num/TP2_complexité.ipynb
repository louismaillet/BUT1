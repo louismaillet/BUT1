{
 "cells": [
  {
   "cell_type": "markdown",
   "metadata": {},
   "source": [
    "# TP2 Complexité"
   ]
  },
  {
   "cell_type": "markdown",
   "metadata": {},
   "source": [
    "En informatique, on s'interesse à la complexité des algorithmes lorsque l'on veut :\n",
    "\n",
    "- Evaluer l'efficacité d'un algo\n",
    "\n",
    "- Comparer deux algo indéependamment de l'environnement (machine, système, compilateur, . . .). On évalue alors le nombre d'opérations éléementaires en fonction de la taille des données, de la nature des données.\n",
    "\n",
    "Notations :\n",
    "\n",
    "- $n$ : taille des données,\n",
    "\n",
    "- $T(n)$ : nombre d'opérations élémentaires dans le pire des cas. Si on a très rarement l'expression de $T(n)$ en fonction de $n$, on arrive à comparer $T(n)$ à des suites \"de référence\"."
   ]
  },
  {
   "cell_type": "markdown",
   "metadata": {},
   "source": [
    "## Exercice 1 - Premier exemple : un algorithme de calcul"
   ]
  },
  {
   "cell_type": "markdown",
   "metadata": {},
   "source": [
    "On veut évaluer la complexité $T(n)$ du premier algorithme du TP1."
   ]
  },
  {
   "cell_type": "code",
   "execution_count": 1,
   "metadata": {},
   "outputs": [],
   "source": [
    "def a(n):\n",
    "\tres=0.25\n",
    "\tfor i in range(n):\n",
    "\t\tres=2*res+1\n",
    "\treturn res"
   ]
  },
  {
   "cell_type": "markdown",
   "metadata": {},
   "source": [
    "Expliquez chacune des étapes ci-dessous puis en déduire comment trouver la complexité d'un algorithme."
   ]
  },
  {
   "cell_type": "code",
   "execution_count": 2,
   "metadata": {},
   "outputs": [],
   "source": [
    "#ETAPE 1\n",
    "\n",
    "def a(n):\n",
    "\tnbiter=0\n",
    "\tres=0.25\n",
    "\tfor i in range(n):\n",
    "\t\tres=2*res+1\n",
    "\t\tnbiter+=1\n",
    "\treturn (res,nbiter)\n",
    "\n",
    "def T(n):\n",
    "\treturn a(n)[1]"
   ]
  },
  {
   "cell_type": "markdown",
   "metadata": {},
   "source": [
    "Réponse : "
   ]
  },
  {
   "cell_type": "code",
   "execution_count": 3,
   "metadata": {},
   "outputs": [
    {
     "data": {
      "image/png": "[encoded data removed]",
      "text/plain": [
       "<Figure size 432x288 with 1 Axes>"
      ]
     },
     "metadata": {
      "needs_background": "light"
     },
     "output_type": "display_data"
    }
   ],
   "source": [
    "#ETAPE 2\n",
    "\n",
    "import matplotlib.pyplot as plt\n",
    "\n",
    "xn=range(30)\n",
    "tn=[T(n) for n in xn]\n",
    "plt.plot(xn,tn,'db-')\n",
    "plt.show()"
   ]
  },
  {
   "cell_type": "markdown",
   "metadata": {},
   "source": [
    "Réponse : "
   ]
  },
  {
   "cell_type": "code",
   "execution_count": 4,
   "metadata": {},
   "outputs": [
    {
     "data": {
      "image/png": "[encoded data removed]",
      "text/plain": [
       "<Figure size 432x288 with 1 Axes>"
      ]
     },
     "metadata": {
      "needs_background": "light"
     },
     "output_type": "display_data"
    }
   ],
   "source": [
    "#ETAPE 3 \n",
    "\n",
    "xn=range(1,30)\n",
    "qn=[T(n)*1.0/n for n in xn]\n",
    "plt.plot(xn,qn,'db-')\n",
    "plt.show()\n"
   ]
  },
  {
   "cell_type": "markdown",
   "metadata": {},
   "source": [
    "Réponse : "
   ]
  },
  {
   "cell_type": "markdown",
   "metadata": {},
   "source": [
    "## Exercice 2 - Un autre algorithme de calcul"
   ]
  },
  {
   "cell_type": "markdown",
   "metadata": {},
   "source": [
    "On veut évaluer la complexité $T(n)$ de l'algorithme suivant :"
   ]
  },
  {
   "cell_type": "code",
   "execution_count": 10,
   "metadata": {},
   "outputs": [],
   "source": [
    "def A(n):\n",
    "    res=0\n",
    "    for k in range(n):\n",
    "        if (n%2==0):\n",
    "            for i in range(n):\n",
    "                res=res+i\n",
    "        else :\n",
    "            res =3* res +1\n",
    "    return res"
   ]
  },
  {
   "cell_type": "markdown",
   "metadata": {},
   "source": [
    "1. Ajouter un compteur permettant de compter le nombre d'opérations élémentaires.\n",
    "2. Construire la liste des $T(n)$ pour $n$ variant de 0 à 50.\n",
    "3. Représenter la suite $T(n)$ et conjecturer son com-\n",
    "portement\n",
    "4. Validez votre conjecture."
   ]
  },
  {
   "cell_type": "code",
   "execution_count": null,
   "metadata": {},
   "outputs": [],
   "source": []
  },
  {
   "cell_type": "markdown",
   "metadata": {},
   "source": [
    "Réponse : "
   ]
  },
  {
   "cell_type": "markdown",
   "metadata": {},
   "source": [
    "## Exercice 3 - Recherche séquentielle dans une liste"
   ]
  },
  {
   "cell_type": "markdown",
   "metadata": {},
   "source": [
    "On veut évaluer la complexité $T(n)$ de l'algorithme de recherche séquentielle dans un tableau\n",
    "(où $n$ est la taille du tableau)."
   ]
  },
  {
   "cell_type": "markdown",
   "metadata": {},
   "source": [
    "1. Terminer l'écriture de la\n",
    "fonction Recherche (et\n",
    "testez la !!)\n",
    "2. Ajouter un compteur\n",
    "permettant de compter\n",
    "le nombre d'opérations\n",
    "élémentaires.\n",
    "3. Construire la liste des\n",
    "$T(n)$ pour $n$ variant\n",
    "de 0 à 100000 avec\n",
    "un pas de 1000. (On\n",
    "recherchera un nombre\n",
    "aléatoire choisi entre 1 et 1000)\n",
    "4. Représenter la suite\n",
    "$T(n)$ et conjecturer son\n",
    "comportement"
   ]
  },
  {
   "cell_type": "code",
   "execution_count": 29,
   "metadata": {},
   "outputs": [],
   "source": [
    "from random import *\n",
    "\n",
    "def tab(n):\n",
    "    return [ randint(1 ,1000) for i in range(n)]\n",
    "\n",
    "# renvoie True si x est dans tab, False sinon\n",
    "\n",
    "def Recherche (x,tab):\n",
    "    pass\n",
    "\n",
    "print(Recherche(randint(1,1000),tab(500)))"
   ]
  },
  {
   "cell_type": "markdown",
   "metadata": {},
   "source": [
    "Réponse : "
   ]
  },
  {
   "cell_type": "markdown",
   "metadata": {},
   "source": [
    "## Exercice 4 - Recherche dichotomique dans un tableau trié\n",
    "On veut évaluer la complexité $T(n)$ de l'algorithme de recherche dichotomique dans un\n",
    "tableau trié (où $n$ est la taille du tableau)."
   ]
  },
  {
   "cell_type": "markdown",
   "metadata": {},
   "source": [
    "1. Terminer l'écriture de la fonction RechercheDicho (et testez la !!)\n",
    "2. Ajouter un compteur permettant de compter le nombre d'opérations élémentaires.\n",
    "3. Construire la liste des $T(n)$ pour $n$ variant de 0 à 1000. (On recherchera un nombre\n",
    "aléatoire choisi entre 1 et 1000)\n",
    "4. Représenter la suite $T(n)$ et conjecturer son comportement\n",
    "5. Valider votre conjecture."
   ]
  },
  {
   "cell_type": "code",
   "execution_count": 32,
   "metadata": {},
   "outputs": [],
   "source": [
    "from random import *\n",
    "from math import *\n",
    "\n",
    "def tab(n):\n",
    "    temp =[randint (1,1000) for i in range(n)]\n",
    "    temp.sort()\n",
    "    return temp\n",
    "\n",
    "# RechercheDicho renvoie l'indice de x dans tab\n",
    "# ou -1 si x n'est pas dans tab\n",
    "\n",
    "def RechercheDicho(x,tab):\n",
    "    pass\n",
    "\n",
    "print(RechercheDicho(randint(1,1000),tab(1000)))"
   ]
  },
  {
   "cell_type": "markdown",
   "metadata": {},
   "source": [
    "Réponse : "
   ]
  },
  {
   "cell_type": "markdown",
   "metadata": {},
   "source": [
    "## Exercice 5 - Des algorithmes de tri\n"
   ]
  },
  {
   "cell_type": "markdown",
   "metadata": {},
   "source": [
    "Evaluer la complexité $T(n)$ des différents algorithmes de tri que vous avez vus (où $n$\n",
    "est la taille du tableau). Quel est le plus performant ? le moins performant ?\n",
    "\n",
    "- Tri par sélection\n",
    "\n",
    "- Tri à bulles\n",
    "\n",
    "- Tri par insertion"
   ]
  },
  {
   "cell_type": "code",
   "execution_count": null,
   "metadata": {},
   "outputs": [],
   "source": []
  }
 ],
 "metadata": {
  "kernelspec": {
   "display_name": "Python 3",
   "language": "python",
   "name": "python3"
  },
  "language_info": {
   "codemirror_mode": {
    "name": "ipython",
    "version": 3
   },
   "file_extension": ".py",
   "mimetype": "text/x-python",
   "name": "python",
   "nbconvert_exporter": "python",
   "pygments_lexer": "ipython3",
   "version": "3.8.5"
  }
 },
 "nbformat": 4,
 "nbformat_minor": 4
}
