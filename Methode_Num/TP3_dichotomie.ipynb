{
 "cells": [
  {
   "cell_type": "markdown",
   "metadata": {},
   "source": [
    "# TP3 Méthode de dichotomie"
   ]
  },
  {
   "cell_type": "markdown",
   "metadata": {},
   "source": [
    "La méthode repose uniquement sur le théorème des valeurs intermédiaires :\n",
    "\n",
    "**Théorème :** Soit $f : [a,b] \\rightarrow \\mathbb{R}$ une fonction continue. Si $f (a)f (b) < 0$, alors il existe $\\alpha\\in ]a,b[$ tel que $f(\\alpha) = 0$.\n",
    "\n",
    "Dans la suite on considère $f : [a,b] \\rightarrow \\mathbb{R}$ une fonction continue et on suppose qu'il existe un unique $\\alpha\\in ]a,b[$ tel que $f(\\alpha) = 0$. "
   ]
  },
  {
   "cell_type": "markdown",
   "metadata": {},
   "source": [
    "## Exercice 1 - Implémentation de l'algorithme de dichotomie"
   ]
  },
  {
   "cell_type": "markdown",
   "metadata": {},
   "source": [
    "1. Ecrire l'algorithme de dichotomie."
   ]
  },
  {
   "cell_type": "code",
   "execution_count": null,
   "metadata": {},
   "outputs": [],
   "source": [
    "\"\"\"\n",
    "    on prends deux extremite on regarde le milieu si le mileu est supperieur a la valeur chercher alors la valeur de gauche devien \n",
    "    \n",
    "    \n",
    "    1. a0 = a; b0 = b.\n",
    "    2. Pour n ≥ 0,\n",
    "        a) cn = an+bn\n",
    "    2\n",
    "        b) I. Si f (cn) = 0 alors cn est un zéro de f et le processus est arrêté.\n",
    "           II. Sinon :\n",
    "        – si f (cn)f (bn) < 0 alors an+1 = cn et bn+1 = bn.\n",
    "        – si f (cn)f (bn) > 0 alors an+1 = an et bn+1 = cn.\n",
    "    \"\"\""
   ]
  },
  {
   "attachments": {
    "dicho.png": {
     "image/png": "[encoded data removed]"
    }
   },
   "cell_type": "markdown",
   "metadata": {},
   "source": [
    "2. Placer les quatre premiers termes des suites $(a_n), (b_n)$ et $(c_n)$ sur le graphe ci-dessous avec $a_0=0$ et $b_0=6$.\n",
    "![dicho.png](attachment:dicho.png)"
   ]
  },
  {
   "cell_type": "markdown",
   "metadata": {},
   "source": [
    "3. Ecrire une fonction `dicho_zero(f,a,b,n)` prenant en paramètre $f, a, b $ et un entier $n$, et qui retourne une valeur approchée à $10^{-n}$ près de $\\alpha$ par la méthode de dichotomie."
   ]
  },
  {
   "cell_type": "code",
   "execution_count": 13,
   "metadata": {},
   "outputs": [
    {
     "name": "stdout",
     "output_type": "stream",
     "text": [
      "0.6527036446786951\n",
      "2.8795166015625\n",
      "0.6529541015625\n"
     ]
    }
   ],
   "source": [
    "def dicho_zero(f,a,b,n):\n",
    "    \n",
    "    while(abs(b-a)>10**(-n)):\n",
    "        c = (a + b) / 2\n",
    "        if f(c) == 0 :\n",
    "            return c\n",
    "        if f(a)*f(c)<0:\n",
    "            b = c\n",
    "        else :\n",
    "            a = c      \n",
    "    return (a+b)/2\n",
    "\n",
    "def f(x):\n",
    "    return x**3-3*x**2+1\n",
    "\n",
    "print(dicho_zero(f,0,2,10))\n",
    "print(dicho_zero(f,1.5,3,3))\n",
    "print(dicho_zero(f,0,3,3))\n"
   ]
  },
  {
   "cell_type": "markdown",
   "metadata": {},
   "source": [
    "## Exercice 2 - Application à la résolution de $f(x)=0$"
   ]
  },
  {
   "cell_type": "code",
   "execution_count": null,
   "metadata": {},
   "outputs": [],
   "source": []
  },
  {
   "cell_type": "markdown",
   "metadata": {},
   "source": [
    "Soit la fonction $f(x) = x^2-3x + 2$."
   ]
  },
  {
   "cell_type": "markdown",
   "metadata": {},
   "source": [
    "1. Déterminer à la main les solutions de l'équation $f(x)=0$."
   ]
  },
  {
   "cell_type": "code",
   "execution_count": 8,
   "metadata": {},
   "outputs": [
    {
     "ename": "SyntaxError",
     "evalue": "invalid syntax (519698401.py, line 1)",
     "output_type": "error",
     "traceback": [
      "\u001b[0;36m  Cell \u001b[0;32mIn[8], line 1\u001b[0;36m\u001b[0m\n\u001b[0;31m    1 et 2\u001b[0m\n\u001b[0m      ^\u001b[0m\n\u001b[0;31mSyntaxError\u001b[0m\u001b[0;31m:\u001b[0m invalid syntax\n"
     ]
    }
   ],
   "source": [
    "1 et \n"
   ]
  },
  {
   "cell_type": "markdown",
   "metadata": {},
   "source": [
    "2. Que renvoie le code ci-dessous:\n",
    "\n",
    "`print(dicho_zero(f,0,1.5,3))\n",
    " print(dicho_zero(f,1.5,3,3))\n",
    " print(dicho_zero(f,0,3,3)`\n"
   ]
  },
  {
   "cell_type": "code",
   "execution_count": null,
   "metadata": {},
   "outputs": [],
   "source": [
    "1.0001220703125\n",
    "1.9998779296875\n",
    "1.0001220703125"
   ]
  },
  {
   "cell_type": "markdown",
   "metadata": {},
   "source": [
    "3. Que peut-on en conclure ?"
   ]
  },
  {
   "cell_type": "code",
   "execution_count": null,
   "metadata": {},
   "outputs": [],
   "source": [
    "\"elle renvoie un 0 si il y en a plusieurs et qu'il faut un unique 0\""
   ]
  },
  {
   "cell_type": "markdown",
   "metadata": {},
   "source": [
    "## Exercice 3 - Application à la résolution de $f(x) = 0$"
   ]
  },
  {
   "cell_type": "markdown",
   "metadata": {},
   "source": [
    "Soit la fonction $f(x) = x^3-3x^2+1$.\n"
   ]
  },
  {
   "cell_type": "markdown",
   "metadata": {},
   "source": [
    "1. Montrer (à la main !) que l’équation $f(x) = 0$ admet une unique solution $\\alpha$ dans $[0; 2]$ et\n",
    "conjecturer sa valeur."
   ]
  },
  {
   "cell_type": "code",
   "execution_count": null,
   "metadata": {},
   "outputs": [],
   "source": [
    "\"\"\"f(x) est continue sur 0 2 \n",
    " elle esy stricement decroissante\n",
    " f est strictement decroissante sur 0,2\"\"\""
   ]
  },
  {
   "cell_type": "markdown",
   "metadata": {},
   "source": [
    "2. Déterminer une valeur approchée à $10^{-6}$ près de $\\alpha$ par la méthode de dichotomie."
   ]
  },
  {
   "cell_type": "code",
   "execution_count": null,
   "metadata": {},
   "outputs": [],
   "source": []
  },
  {
   "cell_type": "markdown",
   "metadata": {},
   "source": [
    "## Exercice 4 - On cherche à déterminer une valeur approchée du réel $\\sqrt 3$"
   ]
  },
  {
   "cell_type": "markdown",
   "metadata": {},
   "source": [
    "1. Déterminer une fonction $f$ telle que $\\sqrt 3$ soit solution de l’équation $f(x) = 0$."
   ]
  },
  {
   "cell_type": "code",
   "execution_count": 14,
   "metadata": {},
   "outputs": [],
   "source": [
    "def f(x):\n",
    "    return x**2 - 3"
   ]
  },
  {
   "cell_type": "markdown",
   "metadata": {},
   "source": [
    "2. Sur quel(s) intervalle(s) peut-on appliquer la méthode de dichotomie ? Déterminer une\n",
    "valeur approchée à $10^{-6}$ près de $\\sqrt 3$ via cette méthode et comparer ce résultat à la valeur\n",
    "obtenue avec Python."
   ]
  },
  {
   "cell_type": "code",
   "execution_count": 17,
   "metadata": {},
   "outputs": [
    {
     "name": "stdout",
     "output_type": "stream",
     "text": [
      "1.7320504188537598\n"
     ]
    }
   ],
   "source": [
    "import math\n",
    "\n",
    "print(dicho_zero(f, 0, 2, 6))"
   ]
  }
 ],
 "metadata": {
  "kernelspec": {
   "display_name": "Python 3",
   "language": "python",
   "name": "python3"
  },
  "language_info": {
   "codemirror_mode": {
    "name": "ipython",
    "version": 3
   },
   "file_extension": ".py",
   "mimetype": "text/x-python",
   "name": "python",
   "nbconvert_exporter": "python",
   "pygments_lexer": "ipython3",
   "version": "3.12.3"
  }
 },
 "nbformat": 4,
 "nbformat_minor": 4
}
